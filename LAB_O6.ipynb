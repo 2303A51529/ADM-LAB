{
  "nbformat": 4,
  "nbformat_minor": 0,
  "metadata": {
    "colab": {
      "provenance": [],
      "authorship_tag": "ABX9TyMCPMhj8oaULvj6XE67J2NS",
      "include_colab_link": true
    },
    "kernelspec": {
      "name": "python3",
      "display_name": "Python 3"
    },
    "language_info": {
      "name": "python"
    }
  },
  "cells": [
    {
      "cell_type": "markdown",
      "metadata": {
        "id": "view-in-github",
        "colab_type": "text"
      },
      "source": [
        "<a href=\"https://colab.research.google.com/github/2303A51529/ADM-LAB/blob/main/LAB_O6.ipynb\" target=\"_parent\"><img src=\"https://colab.research.google.com/assets/colab-badge.svg\" alt=\"Open In Colab\"/></a>"
      ]
    },
    {
      "cell_type": "code",
      "source": [
        "import pandas as pd\n",
        "from sklearn.preprocessing import LabelEncoder, OneHotEncoder\n",
        "data={'A', 'B', 'C', 'A', 'D', 'E', 'F', 'G', 'H', 'A'}\n",
        "df = pd.DataFrame(data, columns=['Category'])\n",
        "label_encoder=LabelEncoder()\n",
        "df['label_Encoded']=label_encoder.fit_transform(df['Category'])\n",
        "one_hot_encoded=  pd.get_dummies(df['Category'])\n",
        "df=pd.concat([df,one_hot_encoded],axis=1)\n",
        "print(df)"
      ],
      "metadata": {
        "colab": {
          "base_uri": "https://localhost:8080/"
        },
        "id": "oaxA5yCASwrv",
        "outputId": "955a2368-05b5-4e77-b753-9d2ac28c7583"
      },
      "execution_count": 2,
      "outputs": [
        {
          "output_type": "stream",
          "name": "stdout",
          "text": [
            "  Category  label_Encoded      A      B      C      D      E      F      G  \\\n",
            "0        B              1  False   True  False  False  False  False  False   \n",
            "1        E              4  False  False  False  False   True  False  False   \n",
            "2        H              7  False  False  False  False  False  False  False   \n",
            "3        D              3  False  False  False   True  False  False  False   \n",
            "4        A              0   True  False  False  False  False  False  False   \n",
            "5        C              2  False  False   True  False  False  False  False   \n",
            "6        F              5  False  False  False  False  False   True  False   \n",
            "7        G              6  False  False  False  False  False  False   True   \n",
            "\n",
            "       H  \n",
            "0  False  \n",
            "1  False  \n",
            "2   True  \n",
            "3  False  \n",
            "4  False  \n",
            "5  False  \n",
            "6  False  \n",
            "7  False  \n"
          ]
        }
      ]
    },
    {
      "cell_type": "code",
      "source": [
        "from datetime import datetime\n",
        "data2={'Name':['phanikumar', 'saikumar', 'saiteja', 'Shiva'], 'DOB':['2005-04-06', '2004-07-07', '2005-09-28', '2005-07-03']}\n",
        "df2=pd.DataFrame(data2)\n",
        "df2['Date_of_Birth'] = pd.to_datetime(df2['DOB'])\n",
        "current_year = datetime.now().year\n",
        "df2['Age'] = current_year - df2['Date_of_Birth'].dt.year\n",
        "print(df2)"
      ],
      "metadata": {
        "colab": {
          "base_uri": "https://localhost:8080/"
        },
        "id": "gnwAqNVaU2kI",
        "outputId": "4a78294b-be4f-4e54-eec6-ff2885207f57"
      },
      "execution_count": 5,
      "outputs": [
        {
          "output_type": "stream",
          "name": "stdout",
          "text": [
            "         Name         DOB Date_of_Birth  Age\n",
            "0  phanikumar  2005-04-06    2005-04-06   20\n",
            "1    saikumar  2004-07-07    2004-07-07   21\n",
            "2     saiteja  2005-09-28    2005-09-28   20\n",
            "3       Shiva  2005-07-03    2005-07-03   20\n"
          ]
        }
      ]
    },
    {
      "cell_type": "code",
      "source": [
        "data3={'Names':['phanikumar', 'sagar', 'Jeevan', 'abhinav'],\n",
        "       'Marks':[98,69,41,42]}\n",
        "df3=pd.DataFrame(data3)\n",
        "grouped = df3.groupby('Names').agg({'Marks': ['sum', 'mean']})\n",
        "print(\"Grouped Data:\\n\", grouped)\n",
        "pivot = df3.pivot_table(index='Names', values='Marks', aggfunc=['sum', 'mean'])\n",
        "print(\"\\nPivot Table:\\n\", pivot)"
      ],
      "metadata": {
        "colab": {
          "base_uri": "https://localhost:8080/"
        },
        "id": "9zcMP6i0Zb2W",
        "outputId": "35d14379-a55a-4e50-bf3a-14b811f9efad"
      },
      "execution_count": 6,
      "outputs": [
        {
          "output_type": "stream",
          "name": "stdout",
          "text": [
            "Grouped Data:\n",
            "            Marks      \n",
            "             sum  mean\n",
            "Names                 \n",
            "Jeevan        41  41.0\n",
            "abhinav       42  42.0\n",
            "phanikumar    98  98.0\n",
            "sagar         69  69.0\n",
            "\n",
            "Pivot Table:\n",
            "              sum  mean\n",
            "           Marks Marks\n",
            "Names                 \n",
            "Jeevan        41  41.0\n",
            "abhinav       42  42.0\n",
            "phanikumar    98  98.0\n",
            "sagar         69  69.0\n"
          ]
        }
      ]
    }
  ]
}